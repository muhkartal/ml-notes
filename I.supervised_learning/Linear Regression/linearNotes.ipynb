{
 "cells": [
  {
   "cell_type": "markdown",
   "metadata": {},
   "source": [
    "#  Linear Regresion"
   ]
  },
  {
   "cell_type": "markdown",
   "metadata": {},
   "source": [
    "Linear Regression is a simple and powerful model for predicting a numeric response from a set of *one or more independent variables*."
   ]
  },
  {
   "cell_type": "markdown",
   "metadata": {},
   "source": [
    "Linear regression is a supervised algorithm that learns to model a dependent variable, _y_, as a function of same independent variable **(aka \"features\")**, $x_{i}$, by finding a line (or surface) that best \"fits\" the data. In general, we assume _y_ to be some number and each $x_{i}$ can be basiaclly anythin"
   ]
  },
  {
   "cell_type": "markdown",
   "metadata": {},
   "source": [
    "For example predicting the price of a house using the number of rooms in that house **(_y_: price $x_{1}$: number of rooms)** or predicting weight from height and age **(_y_: wewight, $x_{1}$: height $x_{2}$: age)**"
   ]
  },
  {
   "cell_type": "markdown",
   "metadata": {},
   "source": [
    "In general, the equation for linear regression is:<center>\n",
    "\n",
    "$\\hat{y}$ = $\\hat{B}_{0}$ + $\\hat{B}_{1}$ $x_{n}$ + $\\hat{B}_{2}$ $x_{2}$ + ... + $\\hat{B}_{p}$ $x_{p}$  + ϵ"
   ]
  },
  {
   "cell_type": "markdown",
   "metadata": {},
   "source": [
    "where: \n",
    "\n",
    "* _y_: the dependent variable; the thing wew are trying to predict\n",
    "* $x_{i}$: the independent variable: the features our model uses to modely y.\n",
    "* $β_{i}$: the coefficent (aka \"weights\") of our regression model. These are the foundations of our model. They are what our model \"learns\" during optimization.\n",
    "* ϵ: the irreducible error in our model. A term that collects together all the unodeled parts of our data."
   ]
  },
  {
   "cell_type": "markdown",
   "metadata": {},
   "source": [
    "Fitting a linear regression model is all about finding the set of coefficent that best mode _y_ as a function of our features. We may never know the true paramters for our model, but we can estimate them. Once we've estimated these coefficents, $β_{i}$, we predict future values, $\\hat{y}$ as:"
   ]
  },
  {
   "cell_type": "markdown",
   "metadata": {},
   "source": [
    "<center>\n",
    "\n",
    "$\\hat{y}$ = $\\hat{B}_{0}$ + $\\hat{B}_{1}$ $x_{n}$ + $\\hat{B}_{2}$ $x_{2}$ + ... + $\\hat{B}_{p}$ $x_{p}$"
   ]
  },
  {
   "cell_type": "markdown",
   "metadata": {},
   "source": [
    "So predicting future values (often called inference), is as simple as plugging the values of our features $x_{i}$ ınto our equation!"
   ]
  },
  {
   "cell_type": "markdown",
   "metadata": {},
   "source": [
    "Let's fit a model to predict housing price ($) in San Diego, USA using the size of the house (in square-footage):\n",
    "\n",
    "We'll start with a very simple model, predicting the price of each house to be just the average house price in our dataset, ~$290,000, ignoring the different sizes of each house:\n",
    "\n",
    "house-price = \t$\\hat{β_{i}}$ * _sqft_+ 290000"
   ]
  },
  {
   "cell_type": "markdown",
   "metadata": {},
   "source": [
    "<center>\n",
    "    <img src=\"../Linear Regression/data/image.png\" alt=\"Scatter Plot\" width=\"600\" height=\"350\"/>\n",
    "</center>"
   ]
  },
  {
   "cell_type": "markdown",
   "metadata": {},
   "source": [
    "<h1>"
   ]
  },
  {
   "cell_type": "markdown",
   "metadata": {},
   "source": [
    "Of course we know this mode is bad - the model doesn't fit the data well at all. But how can do quantify exaclty how bad?\n",
    "\n",
    "To evaluate our model's performance quantitatively, we plot the error of each observation directly. These errors, or **residuals**, measure the distance between each observation. We'll make use of these residuals later when we talk about evaluating regression models, but we can clearly see that our model has a lot of error."
   ]
  },
  {
   "cell_type": "markdown",
   "metadata": {},
   "source": [
    "<center>\n",
    "    <img src=\"../Linear Regression/data/image1.png\" alt=\"Scatter Plot\" width=\"600\" height=\"350\"/>\n",
    "</center>"
   ]
  },
  {
   "cell_type": "markdown",
   "metadata": {},
   "source": [
    "<h1>"
   ]
  },
  {
   "cell_type": "markdown",
   "metadata": {},
   "source": [
    "The **goal of linear regression is reducing this error** such that we find line/surface that 'best' fits our data.\n",
    "\n",
    "Four our simple regression problem, that involves estimating the y-intercept and slope of our model, $\\hat{β_{i0}}$ and $\\hat{β_{1}}$.\n",
    "\n",
    "Four our specific problem, the best fit line is shown. There's still error, sure but the general pattern is captured well.\n",
    "\n",
    "As a result, we can be reasonably confident that if we plug in new values of square-footage, our predicted values of price would be reasonably accurate.\n",
    "\n"
   ]
  },
  {
   "cell_type": "markdown",
   "metadata": {},
   "source": [
    "<h1>"
   ]
  },
  {
   "cell_type": "markdown",
   "metadata": {},
   "source": [
    "<center>\n",
    "    <img src=\"../Linear Regression/data/imag2.png\" alt=\"Scatter Plot\" width=\"600\" height=\"350\"/>\n",
    "</center>"
   ]
  },
  {
   "cell_type": "markdown",
   "metadata": {},
   "source": [
    "Once we've fit our model, predicting futre values is super easy! we just plug in any $x_{i}$ values into our equation!\n"
   ]
  },
  {
   "cell_type": "markdown",
   "metadata": {},
   "source": [
    "\n",
    "\n",
    "Four our simple model, that means plugging in a value for **_sqft_** into our model:\n",
    "\n",
    "**_sqft_** Value: 350\n",
    "\n",
    "$\\hat{y}$ = 756.9 * 350 - 27153.8\n",
    "$\\hat{y}$ = 237761\n",
    "\n",
    "Thus, our model predicts a house that is **350 square-feet** will cost $237,761"
   ]
  },
  {
   "cell_type": "markdown",
   "metadata": {},
   "source": []
  }
 ],
 "metadata": {
  "kernelspec": {
   "display_name": "Python 3",
   "language": "python",
   "name": "python3"
  },
  "language_info": {
   "codemirror_mode": {
    "name": "ipython",
    "version": 3
   },
   "file_extension": ".py",
   "mimetype": "text/x-python",
   "name": "python",
   "nbconvert_exporter": "python",
   "pygments_lexer": "ipython3",
   "version": "3.10.11"
  }
 },
 "nbformat": 4,
 "nbformat_minor": 2
}
