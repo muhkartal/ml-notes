{
 "cells": [
  {
   "cell_type": "markdown",
   "metadata": {},
   "source": [
    "#### Decison Trees\n",
    "\n",
    "**Decision Trees (DTs)** are non-parametric supversied learning methos used for _classification_ and _regression_. The goal is o create a model that predicts the value of a target variable by learning simple decision rules inferrred from data features. **A tree** can be seen a piecewise constant approximation.\n",
    "\n",
    "For instance, in the example below decision trees learn from data to approximate a sine curve with set of **if-then-else decision rules** The deeper the tree, the more complex the decision rules and fitter the model"
   ]
  },
  {
   "cell_type": "markdown",
   "metadata": {},
   "source": [
    "<center>\n",
    "    <img src=\"../Classification/data/classifcation.png\" alt=\"Scatter Plot\" width=\"600\" height=\"350\"/>\n",
    "</center>"
   ]
  }
 ],
 "metadata": {
  "language_info": {
   "name": "python"
  }
 },
 "nbformat": 4,
 "nbformat_minor": 2
}
